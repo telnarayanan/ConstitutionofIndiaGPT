{
  "nbformat": 4,
  "nbformat_minor": 0,
  "metadata": {
    "colab": {
      "provenance": [],
      "authorship_tag": "ABX9TyODUrLyODD9dS/hbdgyrfFj",
      "include_colab_link": true
    },
    "kernelspec": {
      "name": "python3",
      "display_name": "Python 3"
    },
    "language_info": {
      "name": "python"
    }
  },
  "cells": [
    {
      "cell_type": "markdown",
      "metadata": {
        "id": "view-in-github",
        "colab_type": "text"
      },
      "source": [
        "<a href=\"https://colab.research.google.com/github/telnarayanan/ConstitutionofIndiaGPT/blob/main/mf_duckdb_dlt_api.ipynb\" target=\"_parent\"><img src=\"https://colab.research.google.com/assets/colab-badge.svg\" alt=\"Open In Colab\"/></a>"
      ]
    },
    {
      "cell_type": "code",
      "execution_count": 4,
      "metadata": {
        "colab": {
          "base_uri": "https://localhost:8080/"
        },
        "id": "bDPI_rM9RdnN",
        "outputId": "92fa0030-63c0-42f4-cf68-21a801cb94db"
      },
      "outputs": [
        {
          "output_type": "stream",
          "name": "stdout",
          "text": [
            "Requirement already satisfied: dlt[duckdb] in /usr/local/lib/python3.10/dist-packages (0.4.5)\n",
            "Requirement already satisfied: pandas in /usr/local/lib/python3.10/dist-packages (1.5.3)\n",
            "Requirement already satisfied: requests in /usr/local/lib/python3.10/dist-packages (2.31.0)\n",
            "Requirement already satisfied: tqdm in /usr/local/lib/python3.10/dist-packages (4.66.2)\n",
            "Requirement already satisfied: openpyxl in /usr/local/lib/python3.10/dist-packages (3.1.2)\n",
            "Requirement already satisfied: PyYAML>=5.4.1 in /usr/local/lib/python3.10/dist-packages (from dlt[duckdb]) (6.0.1)\n",
            "Requirement already satisfied: SQLAlchemy>=1.4.0 in /usr/local/lib/python3.10/dist-packages (from dlt[duckdb]) (2.0.27)\n",
            "Requirement already satisfied: astunparse>=1.6.3 in /usr/local/lib/python3.10/dist-packages (from dlt[duckdb]) (1.6.3)\n",
            "Requirement already satisfied: click>=7.1 in /usr/local/lib/python3.10/dist-packages (from dlt[duckdb]) (8.1.7)\n",
            "Requirement already satisfied: fsspec>=2022.4.0 in /usr/local/lib/python3.10/dist-packages (from dlt[duckdb]) (2023.6.0)\n",
            "Requirement already satisfied: gitpython>=3.1.29 in /usr/local/lib/python3.10/dist-packages (from dlt[duckdb]) (3.1.42)\n",
            "Requirement already satisfied: giturlparse>=0.10.0 in /usr/local/lib/python3.10/dist-packages (from dlt[duckdb]) (0.12.0)\n",
            "Requirement already satisfied: hexbytes>=0.2.2 in /usr/local/lib/python3.10/dist-packages (from dlt[duckdb]) (1.0.0)\n",
            "Requirement already satisfied: humanize>=4.4.0 in /usr/local/lib/python3.10/dist-packages (from dlt[duckdb]) (4.7.0)\n",
            "Requirement already satisfied: jsonpath-ng>=1.5.3 in /usr/local/lib/python3.10/dist-packages (from dlt[duckdb]) (1.6.1)\n",
            "Requirement already satisfied: makefun>=1.15.0 in /usr/local/lib/python3.10/dist-packages (from dlt[duckdb]) (1.15.2)\n",
            "Requirement already satisfied: orjson<=3.9.10,>=3.6.7 in /usr/local/lib/python3.10/dist-packages (from dlt[duckdb]) (3.9.10)\n",
            "Requirement already satisfied: packaging>=21.1 in /usr/local/lib/python3.10/dist-packages (from dlt[duckdb]) (23.2)\n",
            "Requirement already satisfied: pathvalidate>=2.5.2 in /usr/local/lib/python3.10/dist-packages (from dlt[duckdb]) (3.2.0)\n",
            "Requirement already satisfied: pendulum>=2.1.2 in /usr/local/lib/python3.10/dist-packages (from dlt[duckdb]) (3.0.0)\n",
            "Requirement already satisfied: pytz>=2022.6 in /usr/local/lib/python3.10/dist-packages (from dlt[duckdb]) (2023.4)\n",
            "Requirement already satisfied: requirements-parser>=0.5.0 in /usr/local/lib/python3.10/dist-packages (from dlt[duckdb]) (0.5.0)\n",
            "Requirement already satisfied: semver>=2.13.0 in /usr/local/lib/python3.10/dist-packages (from dlt[duckdb]) (3.0.2)\n",
            "Requirement already satisfied: setuptools>=65.6.0 in /usr/local/lib/python3.10/dist-packages (from dlt[duckdb]) (67.7.2)\n",
            "Requirement already satisfied: simplejson>=3.17.5 in /usr/local/lib/python3.10/dist-packages (from dlt[duckdb]) (3.19.2)\n",
            "Requirement already satisfied: tenacity>=8.0.2 in /usr/local/lib/python3.10/dist-packages (from dlt[duckdb]) (8.2.3)\n",
            "Requirement already satisfied: tomlkit>=0.11.3 in /usr/local/lib/python3.10/dist-packages (from dlt[duckdb]) (0.12.4)\n",
            "Requirement already satisfied: typing-extensions>=4.0.0 in /usr/local/lib/python3.10/dist-packages (from dlt[duckdb]) (4.9.0)\n",
            "Requirement already satisfied: tzdata>=2022.1 in /usr/local/lib/python3.10/dist-packages (from dlt[duckdb]) (2024.1)\n",
            "Requirement already satisfied: duckdb<0.10.0,>=0.6.1 in /usr/local/lib/python3.10/dist-packages (from dlt[duckdb]) (0.9.2)\n",
            "Requirement already satisfied: python-dateutil>=2.8.1 in /usr/local/lib/python3.10/dist-packages (from pandas) (2.8.2)\n",
            "Requirement already satisfied: numpy>=1.21.0 in /usr/local/lib/python3.10/dist-packages (from pandas) (1.25.2)\n",
            "Requirement already satisfied: charset-normalizer<4,>=2 in /usr/local/lib/python3.10/dist-packages (from requests) (3.3.2)\n",
            "Requirement already satisfied: idna<4,>=2.5 in /usr/local/lib/python3.10/dist-packages (from requests) (3.6)\n",
            "Requirement already satisfied: urllib3<3,>=1.21.1 in /usr/local/lib/python3.10/dist-packages (from requests) (2.0.7)\n",
            "Requirement already satisfied: certifi>=2017.4.17 in /usr/local/lib/python3.10/dist-packages (from requests) (2024.2.2)\n",
            "Requirement already satisfied: et-xmlfile in /usr/local/lib/python3.10/dist-packages (from openpyxl) (1.1.0)\n",
            "Requirement already satisfied: wheel<1.0,>=0.23.0 in /usr/local/lib/python3.10/dist-packages (from astunparse>=1.6.3->dlt[duckdb]) (0.42.0)\n",
            "Requirement already satisfied: six<2.0,>=1.6.1 in /usr/local/lib/python3.10/dist-packages (from astunparse>=1.6.3->dlt[duckdb]) (1.16.0)\n",
            "Requirement already satisfied: gitdb<5,>=4.0.1 in /usr/local/lib/python3.10/dist-packages (from gitpython>=3.1.29->dlt[duckdb]) (4.0.11)\n",
            "Requirement already satisfied: ply in /usr/local/lib/python3.10/dist-packages (from jsonpath-ng>=1.5.3->dlt[duckdb]) (3.11)\n",
            "Requirement already satisfied: time-machine>=2.6.0 in /usr/local/lib/python3.10/dist-packages (from pendulum>=2.1.2->dlt[duckdb]) (2.13.0)\n",
            "Requirement already satisfied: types-setuptools>=57.0.0 in /usr/local/lib/python3.10/dist-packages (from requirements-parser>=0.5.0->dlt[duckdb]) (69.1.0.20240223)\n",
            "Requirement already satisfied: greenlet!=0.4.17 in /usr/local/lib/python3.10/dist-packages (from SQLAlchemy>=1.4.0->dlt[duckdb]) (3.0.3)\n",
            "Requirement already satisfied: smmap<6,>=3.0.1 in /usr/local/lib/python3.10/dist-packages (from gitdb<5,>=4.0.1->gitpython>=3.1.29->dlt[duckdb]) (5.0.1)\n"
          ]
        }
      ],
      "source": [
        "!pip install \"dlt[duckdb]\" pandas requests tqdm openpyxl\n"
      ]
    },
    {
      "cell_type": "code",
      "source": [
        "import pandas as pd\n",
        "import requests\n",
        "from requests.adapters import HTTPAdapter\n",
        "from requests.sessions import Session\n",
        "from urllib3 import PoolManager\n",
        "from concurrent.futures import ThreadPoolExecutor, as_completed\n",
        "import dlt\n",
        "from tqdm import tqdm\n",
        "\n",
        "class CustomAdapter(HTTPAdapter):\n",
        "    \"\"\"An HTTP adapter with a larger pool size.\"\"\"\n",
        "    def __init__(self, *args, **kwargs):\n",
        "        self._maxsize = kwargs.pop(\"maxsize\", 10)  # Default to 10 if not specified\n",
        "        super().__init__(*args, **kwargs)\n",
        "\n",
        "    def init_poolmanager(self, connections, maxsize, block=False):\n",
        "        # Use self._maxsize instead of maxsize from the arguments\n",
        "        super().init_poolmanager(connections, self._maxsize, block)\n",
        "\n",
        "# Initialize a session with a custom adapter to increase the connection pool size\n",
        "session = Session()\n",
        "adapter = CustomAdapter(maxsize=50)  # Adjust maxsize as needed based on your requirements\n",
        "session.mount('http://', adapter)\n",
        "session.mount('https://', adapter)\n",
        "\n",
        "# Define the path to your Excel file\n",
        "excel_path = 'AMFI-CODES.xlsx'\n",
        "\n",
        "# Read scheme codes from the Excel file\n",
        "df_scheme_codes = pd.read_excel(excel_path, usecols=['Amfi Code'])\n",
        "\n",
        "# Initialize a DLT pipeline\n",
        "pipeline = dlt.pipeline(\n",
        "    pipeline_name=\"mutual_fund_details\",\n",
        "    destination=\"duckdb\",  # Ensure the destination is correctly set up for your environment\n",
        "    dataset_name=\"mf_dataset\"\n",
        ")\n",
        "\n",
        "def fetch_data(scheme_code):\n",
        "    \"\"\"Fetch data for a given scheme code using the global session.\"\"\"\n",
        "    url = f\"https://api.mfapi.in/mf/{scheme_code}\"\n",
        "    response = session.get(url)\n",
        "    if response.status_code == 200:\n",
        "        return response.json()\n",
        "    return None\n",
        "\n",
        "def fetch_scheme_metadata():\n",
        "    \"\"\"Fetch scheme metadata for all scheme codes, yield results as they come.\"\"\"\n",
        "    with ThreadPoolExecutor(max_workers=20) as executor:\n",
        "        futures = {executor.submit(fetch_data, scheme_code): scheme_code for scheme_code in df_scheme_codes['Amfi Code']}\n",
        "        for future in tqdm(as_completed(futures), total=len(futures), desc=\"Fetching Metadata\"):\n",
        "            data = future.result()\n",
        "            if data and 'meta' in data:\n",
        "                yield data['meta']\n",
        "\n",
        "def fetch_nav_data():\n",
        "    \"\"\"Fetch NAV data for all scheme codes, yield results as they come.\"\"\"\n",
        "    with ThreadPoolExecutor(max_workers=20) as executor:\n",
        "        futures = {executor.submit(fetch_data, scheme_code): scheme_code for scheme_code in df_scheme_codes['Amfi Code']}\n",
        "        for future in tqdm(as_completed(futures), total=len(futures), desc=\"Fetching NAV Data\"):\n",
        "            data = future.result()\n",
        "            if data and 'data' in data:\n",
        "                for record in data['data']:\n",
        "                    nav_record = {**record, \"scheme_code\": data['meta']['scheme_code']}\n",
        "                    yield nav_record\n",
        "\n",
        "# Execute the pipeline for metadata\n",
        "metadata_load_info = pipeline.run(fetch_scheme_metadata)\n",
        "print(\"Metadata Load Info:\", metadata_load_info)\n",
        "\n",
        "# Execute the pipeline for NAV data\n",
        "nav_data_load_info = pipeline.run(fetch_nav_data)\n",
        "print(\"NAV Data Load Info:\", nav_data_load_info)\n"
      ],
      "metadata": {
        "colab": {
          "base_uri": "https://localhost:8080/"
        },
        "id": "HHhOHs3DTcvm",
        "outputId": "649214b5-5a84-4439-d952-2a1e242bc449"
      },
      "execution_count": 4,
      "outputs": [
        {
          "output_type": "stream",
          "name": "stderr",
          "text": [
            "Fetching Metadata: 100%|██████████| 7730/7730 [02:52<00:00, 44.72it/s]\n"
          ]
        },
        {
          "output_type": "stream",
          "name": "stdout",
          "text": [
            "Metadata Load Info: Pipeline mutual_fund_details load step completed in 0.94 seconds\n",
            "1 load package(s) were loaded to destination duckdb and into dataset mf_dataset\n",
            "The duckdb destination used duckdb:////content/mutual_fund_details.duckdb location to store data\n",
            "Load package 1709193468.6773603 is LOADED and contains no failed jobs\n"
          ]
        },
        {
          "output_type": "stream",
          "name": "stderr",
          "text": [
            "Fetching NAV Data: 100%|██████████| 7730/7730 [07:06<00:00, 18.12it/s]\n"
          ]
        },
        {
          "output_type": "stream",
          "name": "stdout",
          "text": [
            "NAV Data Load Info: Pipeline mutual_fund_details load step completed in 8 minutes and 38.25 seconds\n",
            "1 load package(s) were loaded to destination duckdb and into dataset mf_dataset\n",
            "The duckdb destination used duckdb:////content/mutual_fund_details.duckdb location to store data\n",
            "Load package 1709193646.1400876 is LOADED and contains no failed jobs\n"
          ]
        }
      ]
    },
    {
      "cell_type": "code",
      "source": [
        "import duckdb\n",
        "\n",
        "conn = duckdb.connect('mutual_fund_details.duckdb')  # Make sure the path is correct\n",
        "result = conn.execute(\"SELECT * FROM information_schema.tables WHERE table_schema = 'main';\").fetchall()\n",
        "for row in result:\n",
        "    print(row)\n"
      ],
      "metadata": {
        "id": "NgGkX-h_AR6O"
      },
      "execution_count": 15,
      "outputs": []
    }
  ]
}